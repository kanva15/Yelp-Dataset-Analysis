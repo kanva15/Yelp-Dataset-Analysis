{
 "cells": [
  {
   "cell_type": "code",
   "execution_count": 1,
   "metadata": {},
   "outputs": [],
   "source": [
    "from pyspark.sql import SparkSession"
   ]
  },
  {
   "cell_type": "code",
   "execution_count": 2,
   "metadata": {},
   "outputs": [
    {
     "name": "stderr",
     "output_type": "stream",
     "text": [
      "24/11/19 12:50:14 WARN Utils: Your hostname, yelp resolves to a loopback address: 127.0.1.1; using 10.0.2.15 instead (on interface enp0s17)\n",
      "24/11/19 12:50:14 WARN Utils: Set SPARK_LOCAL_IP if you need to bind to another address\n",
      "Setting default log level to \"WARN\".\n",
      "To adjust logging level use sc.setLogLevel(newLevel). For SparkR, use setLogLevel(newLevel).\n",
      "24/11/19 12:50:16 WARN NativeCodeLoader: Unable to load native-hadoop library for your platform... using builtin-java classes where applicable\n"
     ]
    }
   ],
   "source": [
    "spark = SparkSession.builder\\\n",
    "    .appName(\"YelpAZBusinessAnalysis\")\\\n",
    "    .getOrCreate()"
   ]
  },
  {
   "cell_type": "code",
   "execution_count": null,
   "metadata": {},
   "outputs": [
    {
     "name": "stderr",
     "output_type": "stream",
     "text": [
      "                                                                                \r"
     ]
    },
    {
     "name": "stdout",
     "output_type": "stream",
     "text": [
      "root\n",
      " |-- address: string (nullable = true)\n",
      " |-- attributes: struct (nullable = true)\n",
      " |    |-- AcceptsInsurance: string (nullable = true)\n",
      " |    |-- AgesAllowed: string (nullable = true)\n",
      " |    |-- Alcohol: string (nullable = true)\n",
      " |    |-- Ambience: string (nullable = true)\n",
      " |    |-- BYOB: string (nullable = true)\n",
      " |    |-- BYOBCorkage: string (nullable = true)\n",
      " |    |-- BestNights: string (nullable = true)\n",
      " |    |-- BikeParking: string (nullable = true)\n",
      " |    |-- BusinessAcceptsBitcoin: string (nullable = true)\n",
      " |    |-- BusinessAcceptsCreditCards: string (nullable = true)\n",
      " |    |-- BusinessParking: string (nullable = true)\n",
      " |    |-- ByAppointmentOnly: string (nullable = true)\n",
      " |    |-- Caters: string (nullable = true)\n",
      " |    |-- CoatCheck: string (nullable = true)\n",
      " |    |-- Corkage: string (nullable = true)\n",
      " |    |-- DietaryRestrictions: string (nullable = true)\n",
      " |    |-- DogsAllowed: string (nullable = true)\n",
      " |    |-- DriveThru: string (nullable = true)\n",
      " |    |-- GoodForDancing: string (nullable = true)\n",
      " |    |-- GoodForKids: string (nullable = true)\n",
      " |    |-- GoodForMeal: string (nullable = true)\n",
      " |    |-- HairSpecializesIn: string (nullable = true)\n",
      " |    |-- HappyHour: string (nullable = true)\n",
      " |    |-- HasTV: string (nullable = true)\n",
      " |    |-- Music: string (nullable = true)\n",
      " |    |-- NoiseLevel: string (nullable = true)\n",
      " |    |-- Open24Hours: string (nullable = true)\n",
      " |    |-- OutdoorSeating: string (nullable = true)\n",
      " |    |-- RestaurantsAttire: string (nullable = true)\n",
      " |    |-- RestaurantsCounterService: string (nullable = true)\n",
      " |    |-- RestaurantsDelivery: string (nullable = true)\n",
      " |    |-- RestaurantsGoodForGroups: string (nullable = true)\n",
      " |    |-- RestaurantsPriceRange2: string (nullable = true)\n",
      " |    |-- RestaurantsReservations: string (nullable = true)\n",
      " |    |-- RestaurantsTableService: string (nullable = true)\n",
      " |    |-- RestaurantsTakeOut: string (nullable = true)\n",
      " |    |-- Smoking: string (nullable = true)\n",
      " |    |-- WheelchairAccessible: string (nullable = true)\n",
      " |    |-- WiFi: string (nullable = true)\n",
      " |-- business_id: string (nullable = true)\n",
      " |-- categories: string (nullable = true)\n",
      " |-- city: string (nullable = true)\n",
      " |-- hours: struct (nullable = true)\n",
      " |    |-- Friday: string (nullable = true)\n",
      " |    |-- Monday: string (nullable = true)\n",
      " |    |-- Saturday: string (nullable = true)\n",
      " |    |-- Sunday: string (nullable = true)\n",
      " |    |-- Thursday: string (nullable = true)\n",
      " |    |-- Tuesday: string (nullable = true)\n",
      " |    |-- Wednesday: string (nullable = true)\n",
      " |-- is_open: long (nullable = true)\n",
      " |-- latitude: double (nullable = true)\n",
      " |-- longitude: double (nullable = true)\n",
      " |-- name: string (nullable = true)\n",
      " |-- postal_code: string (nullable = true)\n",
      " |-- review_count: long (nullable = true)\n",
      " |-- stars: double (nullable = true)\n",
      " |-- state: string (nullable = true)\n",
      "\n",
      "+--------------------+--------------------+--------------------+--------------------+-------------+--------------------+-------+----------+------------+--------------------+-----------+------------+-----+-----+\n",
      "|             address|          attributes|         business_id|          categories|         city|               hours|is_open|  latitude|   longitude|                name|postal_code|review_count|stars|state|\n",
      "+--------------------+--------------------+--------------------+--------------------+-------------+--------------------+-------+----------+------------+--------------------+-----------+------------+-----+-----+\n",
      "|1616 Chapala St, ...|{null, null, null...|Pns2l4eNsfO8kk83d...|Doctors, Traditio...|Santa Barbara|                null|      0|34.4266787|-119.7111968|Abby Rappoport, L...|      93101|           7|  5.0|   CA|\n",
      "|87 Grasso Plaza S...|{null, null, null...|mpf3x-BjTdTEA3yCZ...|Shipping Centers,...|       Affton|{8:0-18:30, 0:0-0...|      1| 38.551126|  -90.335695|       The UPS Store|      63123|          15|  3.0|   MO|\n",
      "|5255 E Broadway Blvd|{null, null, null...|tUFrWirKiKi_TAnsV...|Department Stores...|       Tucson|{8:0-23:0, 8:0-22...|      0| 32.223236| -110.880452|              Target|      85711|          22|  3.5|   AZ|\n",
      "|         935 Race St|{null, null, u'no...|MTSW4McQd7CbVtyjq...|Restaurants, Food...| Philadelphia|{7:0-21:0, 7:0-20...|      1|39.9555052| -75.1555641|  St Honore Pastries|      19107|          80|  4.0|   PA|\n",
      "|       101 Walnut St|{null, null, null...|mWMc6_wTdE0EUBKIG...|Brewpubs, Breweri...|   Green Lane|{12:0-22:0, null,...|      1|40.3381827| -75.4716585|Perkiomen Valley ...|      18054|          13|  4.5|   PA|\n",
      "+--------------------+--------------------+--------------------+--------------------+-------------+--------------------+-------+----------+------------+--------------------+-----------+------------+-----+-----+\n",
      "only showing top 5 rows\n",
      "\n",
      "+--------------------+--------------------+--------------------+--------------------+----------+--------------------+-------+----------+------------+--------------------+-----------+------------+-----+-----+\n",
      "|             address|          attributes|         business_id|          categories|      city|               hours|is_open|  latitude|   longitude|                name|postal_code|review_count|stars|state|\n",
      "+--------------------+--------------------+--------------------+--------------------+----------+--------------------+-------+----------+------------+--------------------+-----------+------------+-----+-----+\n",
      "|5255 E Broadway Blvd|{null, null, null...|tUFrWirKiKi_TAnsV...|Department Stores...|    Tucson|{8:0-23:0, 8:0-22...|      0| 32.223236| -110.880452|              Target|      85711|          22|  3.5|   AZ|\n",
      "|     625 N Stone Ave|{null, null, null...|rBmpy_Y1UbBx8ggHl...|Automotive, Auto ...|    Tucson|{8:0-17:0, 0:0-0:...|      1|32.2298719|-110.9723419|Arizona Truck Out...|      85705|          10|  4.5|   AZ|\n",
      "|1625 W Valencia R...|{null, null, 'bee...|wghnIlMb_i5U46HMB...|Restaurants, Chinese|    Tucson|{11:0-21:0, 11:0-...|      0|32.1323047|-110.9999851|China Dragon Rest...|      85746|          23|  3.0|   AZ|\n",
      "|1070 E Tucson Mar...|{null, null, null...|txyXRytGjwOXvS8s4...|Vitamins & Supple...|    Tucson|{7:0-19:0, 0:0-0:...|      1| 32.186794| -110.954765|       Smoothie King|      85713|          29|  3.0|   AZ|\n",
      "|     4158 E Grant Rd|                null|eYxGFkxo6m3SYGVTh...|Towing, Hotels & ...|    Tucson|{8:30-18:0, 8:30-...|      1|32.2503237|-110.9036553|Big Boyz Toyz Mot...|      85712|           8|  4.5|   AZ|\n",
      "|7401 N La Cholla ...|{null, null, u'fu...|x9K0RfZaT_zlw6Dkl...|Italian, Restaurants|    Tucson|                null|      0| 32.221667| -110.925833|Gavi Italian Rest...|      85707|           9|  3.5|   AZ|\n",
      "|12112 N Rancho Vi...|{null, null, null...|2Bi3ef7c0CrLxHD_-...|Printing Services...|Oro Valley|{8:30-18:0, 8:30-...|      1|32.4263727|-110.9592405|     AIM Mail Center|      85755|          13|  3.0|   AZ|\n",
      "|4146 E Speedway Blvd|{null, null, null...|luGY5CJlb4CJ3LrBc...|Furniture Stores,...|    Tucson|{9:30-18:0, 9:30-...|      1|32.2358661|-110.9036755|Desert Design Center|      85712|           5|  3.0|   AZ|\n",
      "|7955 E Broadway B...|{null, null, null...|wEfK2HIYNzkA1QYfU...|Hardware Stores, ...|    Tucson|{7:0-18:0, 9:0-17...|      1|32.2215422|-110.8221011|            Leslie's|      85710|          15|  2.5|   AZ|\n",
      "|7250 North La Cho...|{null, null, u'no...|anLQj9AM8vjbcLSIE...|  Pizza, Restaurants|    Tucson|                null|      1|32.3385723|-111.0107602|       Papa Murphy's|      85741|          22|  4.0|   AZ|\n",
      "+--------------------+--------------------+--------------------+--------------------+----------+--------------------+-------+----------+------------+--------------------+-----------+------------+-----+-----+\n",
      "only showing top 10 rows\n",
      "\n"
     ]
    },
    {
     "name": "stderr",
     "output_type": "stream",
     "text": [
      "                                                                                \r"
     ]
    },
    {
     "name": "stdout",
     "output_type": "stream",
     "text": [
      "+-----------------------------------------------------------------------------------------------------------------------------+\n",
      "|categories                                                                                                                   |\n",
      "+-----------------------------------------------------------------------------------------------------------------------------+\n",
      "|Arts & Entertainment, Event Planning & Services, Venues & Event Spaces, Museums                                              |\n",
      "|Food, Convenience Stores, Restaurants, Food Delivery Services, Local Flavor, Delis                                           |\n",
      "|Automotive, Auto Repair, Towing, Body Shops, Oil Change Stations, Auto Parts & Supplies, Tires                               |\n",
      "|Makeup Artists, Hair Salons, Beauty & Spas                                                                                   |\n",
      "|Breweries, American (New), Restaurants, Burgers, American (Traditional), Gastropubs, Brewpubs, Food, Fish & Chips            |\n",
      "|Dog Walkers, Pet Services, Health & Medical, Reiki, Pet Sitting, Pets                                                        |\n",
      "|Gyms, Climbing, Fitness & Instruction, Active Life                                                                           |\n",
      "|Salad, Restaurants, American (Traditional), Food, Sandwiches, Do-It-Yourself Food, Soup, Vegetarian, American (New)          |\n",
      "|Community Service/Non-Profit, Local Services, Active Life, Botanical Gardens, Arts & Entertainment, Local Flavor, Parks      |\n",
      "|Furniture Stores, Mattresses, Home & Garden, Home Decor, Shopping                                                            |\n",
      "|Restaurants, Creperies, Coffee & Tea, Desserts, Cafes, Food, French                                                          |\n",
      "|Restaurants, Sandwiches, Caterers, Burgers, Salad, Event Planning & Services                                                 |\n",
      "|Auto Repair, Automotive, Hotels & Travel, Car Rental, Body Shops, Car Dealers                                                |\n",
      "|Home Services, Contractors, Landscaping, Tree Services                                                                       |\n",
      "|Karate, Martial Arts, Local Services, Active Life, Fitness & Instruction                                                     |\n",
      "|Salad, Restaurants, Sandwiches, Delis                                                                                        |\n",
      "|Restaurants, Fast Food, Food, Sandwiches, Desserts, Juice Bars & Smoothies                                                   |\n",
      "|Shopping, Fashion, Beauty & Spas, Hair Extensions, Hair Salons, Cosmetics & Beauty Supply, Wigs                              |\n",
      "|Heating & Air Conditioning/HVAC, Local Services, Water Heater Installation/Repair, Air Duct Cleaning, Home Services, Plumbing|\n",
      "|Mobile Phone Accessories, IT Services & Computer Repair, Telecommunications, Local Services, Shopping, Mobile Phones         |\n",
      "+-----------------------------------------------------------------------------------------------------------------------------+\n",
      "only showing top 20 rows\n",
      "\n",
      "+--------------------+--------------------+--------------------+--------------------+----------+--------------------+-------+-------------+---------------+--------------------+-----------+------------+-----+-----+\n",
      "|             address|          attributes|         business_id|          categories|      city|               hours|is_open|     latitude|      longitude|                name|postal_code|review_count|stars|state|\n",
      "+--------------------+--------------------+--------------------+--------------------+----------+--------------------+-------+-------------+---------------+--------------------+-----------+------------+-----+-----+\n",
      "|1664 South Resear...|{null, null, null...|EEc3X2r94uNhCz_jO...|Food, Breweries, ...|    Tucson|{14:30-22:0, 15:0...|      1|32.2014539061| -110.823107399|   Blackrock Brewers|      85710|          35|  4.5|   AZ|\n",
      "|       800 E 16th St|{null, null, u'fu...|8QJTzIaR5FceGds8H...|Nightlife, Sports...|    Tucson|{11:0-23:0, 11:0-...|      1|    32.214412|   -110.9595118|      Barrio Brewing|      85719|         611|  4.0|   AZ|\n",
      "|12130 N Dove Moun...|{null, null, 'ful...|HDuR_Dtb5xLQyTbz5...|Bars, Nightlife, ...|    Marana|{11:0-22:0, 11:0-...|      1|32.4275740361|-111.0795866362|Dove Mountain Bre...|      85658|         182|  3.0|   AZ|\n",
      "|3820 S Palo Verde...|{null, null, null...|CvPp2DcyJ5Lbz3Wvv...|Brewpubs, Breweri...|    Tucson|{12:0-21:0, 0:0-0...|      1|   32.1774317|   -110.9185309|Harbottle Brewing...|      85714|          34|  4.5|   AZ|\n",
      "|9630 N Oracle Rd,...|{null, null, u'be...|m415biOq0Fxy1h0J7...|Barbeque, Breweri...|Oro Valley|{11:0-16:0, 0:0-0...|      1|   32.3815966|-110.9631344676|   Firetruck Brewing|      85704|          51|  3.5|   AZ|\n",
      "+--------------------+--------------------+--------------------+--------------------+----------+--------------------+-------+-------------+---------------+--------------------+-----------+------------+-----+-----+\n",
      "only showing top 5 rows\n",
      "\n"
     ]
    }
   ],
   "source": [
    "\n",
    "\n",
    "yelp_df = spark.read.json(\"file:///home/dps/Documents/yelp_dataset/yelp_academic_dataset_business.json\")\n",
    "\n",
    "yelp_df.printSchema()\n",
    "yelp_df.show(5)\n",
    "\n",
    "arizona_df = yelp_df.filter(yelp_df[\"state\"] == \"AZ\")\n",
    "arizona_df.show(10)\n",
    "\n",
    "arizona_df.write.parquet(\"file:///home/dps/Documents/temp/arizona_businesses.parquet\")\n",
    "\n",
    "yelp_df.select(\"categories\").distinct().show(truncate=False)\n",
    "\n",
    "breweries_df = arizona_df.filter(arizona_df[\"categories\"].contains(\"Breweries\"))\n",
    "breweries_df.show(5)\n",
    "\n",
    "breweries_df.createOrReplaceTempView(\"breweries\")\n"
   ]
  },
  {
   "cell_type": "code",
   "execution_count": 5,
   "metadata": {},
   "outputs": [
    {
     "name": "stderr",
     "output_type": "stream",
     "text": [
      "[Stage 14:>                                                         (0 + 4) / 4]\r"
     ]
    },
    {
     "name": "stdout",
     "output_type": "stream",
     "text": [
      "+--------------------+-----+------------+\n",
      "|                name|stars|review_count|\n",
      "+--------------------+-----+------------+\n",
      "|     Serial Grillers|  4.5|         986|\n",
      "|  Dragoon Brewing Co|  4.5|         182|\n",
      "| Pueblo Vida Brewing|  4.5|         172|\n",
      "|  Arizona Beer House|  4.5|         164|\n",
      "|Crooked Tooth Bre...|  4.5|         163|\n",
      "|1912 Brewing Company|  4.5|          87|\n",
      "|   Button Brew House|  4.5|          62|\n",
      "|Dillinger Brewing...|  4.5|          61|\n",
      "| Iron John's Brewing|  4.5|          50|\n",
      "|Ten Fifty-Five Br...|  4.5|          48|\n",
      "+--------------------+-----+------------+\n",
      "\n"
     ]
    },
    {
     "name": "stderr",
     "output_type": "stream",
     "text": [
      "                                                                                \r"
     ]
    }
   ],
   "source": [
    "spark.sql(\"\"\"\n",
    "SELECT name, stars, review_count\n",
    "FROM breweries\n",
    "ORDER BY stars DESC, review_count DESC\n",
    "LIMIT 10\n",
    "\"\"\").show()"
   ]
  },
  {
   "cell_type": "code",
   "execution_count": null,
   "metadata": {},
   "outputs": [
    {
     "name": "stderr",
     "output_type": "stream",
     "text": [
      "[Stage 15:>                                                         (0 + 4) / 4]\r"
     ]
    },
    {
     "name": "stdout",
     "output_type": "stream",
     "text": [
      "+-----------+-------------+\n",
      "|postal_code|num_breweries|\n",
      "+-----------+-------------+\n",
      "|      85705|            8|\n",
      "|      85719|            6|\n",
      "|      85701|            5|\n",
      "|      85713|            4|\n",
      "|      85712|            3|\n",
      "|      85741|            3|\n",
      "|      85711|            2|\n",
      "|      85749|            2|\n",
      "|      85710|            2|\n",
      "|      85756|            2|\n",
      "+-----------+-------------+\n",
      "\n"
     ]
    },
    {
     "name": "stderr",
     "output_type": "stream",
     "text": [
      "                                                                                \r"
     ]
    }
   ],
   "source": [
    "spark.sql(\"\"\"\n",
    "SELECT postal_code, COUNT(*) AS num_breweries\n",
    "FROM breweries\n",
    "GROUP BY postal_code\n",
    "ORDER BY num_breweries DESC\n",
    "LIMIT 10\n",
    "\"\"\").show()"
   ]
  },
  {
   "cell_type": "code",
   "execution_count": 8,
   "metadata": {},
   "outputs": [
    {
     "name": "stderr",
     "output_type": "stream",
     "text": [
      "[Stage 18:>                                                         (0 + 4) / 4]\r"
     ]
    },
    {
     "name": "stdout",
     "output_type": "stream",
     "text": [
      "+--------------------+-----+------------+---------------+\n",
      "|                name|stars|review_count|breweries_score|\n",
      "+--------------------+-----+------------+---------------+\n",
      "|     Serial Grillers|  4.5|         986|           9.14|\n",
      "|      Barrio Brewing|  4.0|         611|           8.37|\n",
      "|                1702|  4.0|         337|           7.86|\n",
      "|Sentinel Peak Bre...|  4.0|         304|           7.77|\n",
      "|  Dragoon Brewing Co|  4.5|         182|           7.67|\n",
      "| Pueblo Vida Brewing|  4.5|         172|           7.63|\n",
      "|Crooked Tooth Bre...|  4.5|         163|           7.58|\n",
      "|  Arizona Beer House|  4.5|         164|           7.58|\n",
      "|Gentle Ben’s Brewery|  3.5|         359|           7.56|\n",
      "| Zpizza - Oro Valley|  4.0|         236|           7.55|\n",
      "+--------------------+-----+------------+---------------+\n",
      "\n"
     ]
    },
    {
     "name": "stderr",
     "output_type": "stream",
     "text": [
      "                                                                                \r"
     ]
    }
   ],
   "source": [
    "spark.sql(\"\"\"\n",
    "SELECT\n",
    "    name,\n",
    "    stars,\n",
    "    review_count,\n",
    "    ROUND((stars * 0.7 + LOG10(review_count + 1) * 2), 2) AS breweries_score\n",
    "FROM breweries\n",
    "WHERE categories LIKE '%Breweries%'\n",
    "ORDER BY breweries_score DESC\n",
    "LIMIT 10\n",
    "\"\"\").show()"
   ]
  },
  {
   "cell_type": "code",
   "execution_count": null,
   "metadata": {},
   "outputs": [
    {
     "name": "stderr",
     "output_type": "stream",
     "text": [
      "[Stage 31:=============================>                            (2 + 2) / 4]\r"
     ]
    },
    {
     "name": "stdout",
     "output_type": "stream",
     "text": [
      "+-----------+-------------+----------+\n",
      "|postal_code|num_breweries|avg_rating|\n",
      "+-----------+-------------+----------+\n",
      "|      85714|            1|       4.5|\n",
      "|      85745|            1|       4.5|\n",
      "|      85712|            2|      4.25|\n",
      "|      85737|            1|       4.0|\n",
      "|      85704|            1|       3.5|\n",
      "|      85741|            2|       3.5|\n",
      "|      85701|            1|       3.5|\n",
      "|      85719|            3|       3.5|\n",
      "|      85711|            2|      3.25|\n",
      "|      85705|            2|      3.25|\n",
      "+-----------+-------------+----------+\n",
      "\n"
     ]
    },
    {
     "name": "stderr",
     "output_type": "stream",
     "text": [
      "                                                                                \r"
     ]
    }
   ],
   "source": [
    "spark.sql(\"\"\"\n",
    "SELECT\n",
    "    postal_code,\n",
    "    COUNT(*) AS num_breweries,\n",
    "    ROUND(AVG(stars), 2) AS avg_rating\n",
    "FROM breweries\n",
    "WHERE attributes.BusinessAcceptsCreditCards ='True' AND attributes.GoodForKids = 'True'\n",
    "GROUP BY postal_code\n",
    "ORDER BY avg_rating DESC\n",
    "LIMIT 10\n",
    "\"\"\").show()"
   ]
  },
  {
   "cell_type": "code",
   "execution_count": 16,
   "metadata": {},
   "outputs": [
    {
     "name": "stdout",
     "output_type": "stream",
     "text": [
      "+--------------------+-----------+-----+------------+--------------+\n",
      "|                name|postal_code|stars|review_count|weighted_score|\n",
      "+--------------------+-----------+-----+------------+--------------+\n",
      "|1912 Brewing Company|      85745|  4.5|          87|          2.55|\n",
      "|Harbottle Brewing...|      85714|  4.5|          34|          2.55|\n",
      "|     Serial Grillers|      85712|  4.5|         986|          2.55|\n",
      "|Sentinel Peak Bre...|      85712|  4.0|         304|           2.3|\n",
      "|Catalina Brewing ...|      85741|  4.0|          67|           2.3|\n",
      "| Zpizza - Oro Valley|      85737|  4.0|         236|           2.3|\n",
      "|                1702|      85719|  4.0|         337|           2.3|\n",
      "|   Firetruck Brewing|      85704|  3.5|          51|          2.05|\n",
      "|Thunder Canyon Br...|      85701|  3.5|         333|          2.05|\n",
      "|      TapHouse Grill|      85711|  3.5|          13|          2.05|\n",
      "+--------------------+-----------+-----+------------+--------------+\n",
      "\n"
     ]
    }
   ],
   "source": [
    "spark.sql(\"\"\"\n",
    "SELECT\n",
    "    name,\n",
    "    postal_code,\n",
    "    stars,\n",
    "    review_count,\n",
    "    ROUND((stars * 0.5 + \n",
    "          CASE WHEN attributes.BusinessAcceptsCreditCards = 'True' THEN 0.2 ELSE 0 END +\n",
    "          CASE WHEN attributes.GoodForKids = 'True' THEN 0.1 ELSE 0 END), 2) AS weighted_score\n",
    "FROM breweries\n",
    "WHERE attributes.GoodForKids = 'True' AND attributes.BusinessAcceptsCreditCards = 'True'\n",
    "ORDER BY weighted_score DESC, stars DESC\n",
    "LIMIT 10\n",
    "\"\"\").show()"
   ]
  },
  {
   "cell_type": "code",
   "execution_count": null,
   "metadata": {},
   "outputs": [],
   "source": []
  }
 ],
 "metadata": {
  "kernelspec": {
   "display_name": "Python 3",
   "language": "python",
   "name": "python3"
  },
  "language_info": {
   "codemirror_mode": {
    "name": "ipython",
    "version": 3
   },
   "file_extension": ".py",
   "mimetype": "text/x-python",
   "name": "python",
   "nbconvert_exporter": "python",
   "pygments_lexer": "ipython3",
   "version": "3.10.12"
  }
 },
 "nbformat": 4,
 "nbformat_minor": 2
}
